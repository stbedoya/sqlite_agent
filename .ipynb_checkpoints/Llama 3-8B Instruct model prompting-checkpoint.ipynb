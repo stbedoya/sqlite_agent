{
 "cells": [
  {
   "cell_type": "markdown",
   "id": "a42433cd-f735-4135-8f48-699b098e9a03",
   "metadata": {},
   "source": [
    "# Llama 3-8B Instruct model prompting"
   ]
  },
  {
   "cell_type": "markdown",
   "id": "0882bf0d-4d46-475b-a532-769a9260a01e",
   "metadata": {},
   "source": [
    "In this series of notebooks, I will develop an NBA AI agent using **LLaMA 3-8B Instruct** as the foundational model. The agent's primary function is to generate accurate and efficient **SQLite queries** to extract insights from the `nba_roster` database. Given a structured schema and a natural language question, the agent translates the request into an executable SQL statement.  \n",
    "\n",
    "### **Pipeline Overview:**  \n",
    "1. The user submits a question in natural language.  \n",
    "2. The model processes the question alongside relevant instructions (prompt + database schema).  \n",
    "3. The model generates an SQL query.  \n",
    "4. The query is executed against the database.  \n",
    "5. The retrieved data is returned to the user.  \n",
    "\n",
    "### **Objective of this notebook:**  \n",
    "- Construct effective prompts for the foundational model.  \n",
    "- Analyze and refine the model’s output structure."
   ]
  },
  {
   "cell_type": "markdown",
   "id": "4e5274bb-1e84-46fb-9d32-0433e53d8131",
   "metadata": {},
   "source": [
    "This project includes a set of predefined classes specifically designed to streamline the development of our NBA agent. These classes handle model interactions, prompt management, schema retrieval, and SQL query extraction. They are imported as follows:"
   ]
  },
  {
   "cell_type": "code",
   "execution_count": 1,
   "id": "d4122e3a-96c0-4806-965a-3670d37198f9",
   "metadata": {},
   "outputs": [
    {
     "name": "stderr",
     "output_type": "stream",
     "text": [
      "/home/stefany/interview_Material/interviews/interview_env/lib/python3.11/site-packages/tqdm/auto.py:21: TqdmWarning: IProgress not found. Please update jupyter and ipywidgets. See https://ipywidgets.readthedocs.io/en/stable/user_install.html\n",
      "  from .autonotebook import tqdm as notebook_tqdm\n"
     ]
    }
   ],
   "source": [
    "from src.llm.llm_model import LLMModel\n",
    "from src.llm.llm_prompt import PromptBuilder\n",
    "from src.utils.schema_provider import SchemaProvider\n",
    "from src.llm.sql_extractor import SQLQueryExtractor"
   ]
  },
  {
   "cell_type": "markdown",
   "id": "fdaadff9-e697-43d6-844d-0589993733aa",
   "metadata": {},
   "source": [
    "Let's start loading and prompting our Llama-3-8B-Instruct model, which is gonna be our foundational model for this project. "
   ]
  },
  {
   "cell_type": "code",
   "execution_count": 2,
   "id": "4a675657-97dd-492c-a85e-180e4aaf52b3",
   "metadata": {},
   "outputs": [
    {
     "name": "stderr",
     "output_type": "stream",
     "text": [
      "INFO:src.llm.llm_model:Releasing GPU memory...\n",
      "INFO:accelerate.utils.modeling:We will use 90% of the memory on device 0 for storing the model, and 10% for the buffer to avoid OOM. You can set `max_memory` in to a higher value to use more memory (at your own risk).\n",
      "Loading checkpoint shards: 100%|██████████████████████████████████████████████████████████████████████████████| 4/4 [00:04<00:00,  1.17s/it]\n",
      "WARNING:accelerate.big_modeling:Some parameters are on the meta device because they were offloaded to the cpu.\n",
      "INFO:src.llm.llm_model:Model loaded from: models/llama-3-8B\n",
      "INFO:src.llm.llm_model:Model successfully loaded on device: cuda:0\n"
     ]
    }
   ],
   "source": [
    "llm = LLMModel(model_name=\"llama-3b-8B/Meta-Llama-3-8B-Instruct\")"
   ]
  },
  {
   "cell_type": "markdown",
   "id": "2288e7e7-a49d-4548-bffc-74d18e59ccb6",
   "metadata": {},
   "source": [
    "### **Prompting the model:** \n",
    "Before writing a prompt, ask yourself:\n",
    "\n",
    "- What do I want the model to do?\n",
    "- What kind of response am I expecting (e.g., SQL query, summary, structured text)?\n",
    "- How specific does the output need to be?\n",
    "\n",
    "To achieve our goal of creating an effective SQL query agent, we must guide the model to generate structured and accurate outputs by embedding clear and comprehensive instructions within our prompt. Our agent prompt will follow this structured approach:\n",
    "\n",
    "- **System instructions:** Define the model’s role explicitly, such as an expert SQL analyst, ensuring it understands its function and scope.\n",
    "- **Database schema or structure:**  Since the model lacks direct access to the database and has no prior knowledge of its structure or contents, we must provide this information explicitly. This includes table names, column definitions, data types, and relevant relationships to enable the model to construct valid and contextually appropriate SQL queries.  \n",
    "- **Expected output:** Specify the required structure for the model’s response, ensuring consistency and usability. This may include formatting the SQL query in a structured block, adding explanatory comments, or providing alternative query optimizations if applicable.\n",
    "- **User input:** Since our agent goal is to generate a SQL query given a natural language question, we need to included this questions in our prompt to guide the model.\n",
    "\n",
    "Let's start with a simple question, where we want to know the following information contained in the database:"
   ]
  },
  {
   "cell_type": "code",
   "execution_count": 3,
   "id": "e2beaffa-17a4-454f-bbb2-120da2f19459",
   "metadata": {},
   "outputs": [],
   "source": [
    "question = \"Who is the highest paid NBA player?\""
   ]
  },
  {
   "cell_type": "code",
   "execution_count": 4,
   "id": "184027c2-bb25-4968-ac1b-379fbfdca22b",
   "metadata": {},
   "outputs": [],
   "source": [
    "system_instructions = \"You are an NBA analyst with 15 years of experience writing complex SQL queries. Consider the nba_roster table with the following schema:\\n{schema}\\n\\nWrite a SQL query to answer the following question. Follow instructions exactly.\""
   ]
  },
  {
   "cell_type": "code",
   "execution_count": 5,
   "id": "b64b17e3-e7dd-4b06-b8f7-29881ef8f81e",
   "metadata": {},
   "outputs": [],
   "source": [
    "prompt = \"<|begin_of_text|><|start_header_id|>system<|end_header_id|>\\n{system_instructions}<|eot_id|>\\n<|start_header_id|>user<|end_header_id|>\\n{question}<|eot_id|>\\n<|start_header_id|>assistant<|end_header_id|>\\n\""
   ]
  },
  {
   "cell_type": "markdown",
   "id": "0392c11d-b40e-4846-8557-832c5d7c131e",
   "metadata": {},
   "source": [
    "The system instructions and prompt format are fixed (it may change depending of your application), and we only insert the database schema and the natural language question."
   ]
  },
  {
   "cell_type": "code",
   "execution_count": 6,
   "id": "53856132-3463-4128-b1bf-0a3dbad91c7d",
   "metadata": {},
   "outputs": [
    {
     "name": "stdout",
     "output_type": "stream",
     "text": [
      "        0|Team|TEXT \n",
      "        1|NAME|TEXT  \n",
      "        2|Jersey|TEXT \n",
      "        3|POS|TEXT\n",
      "        4|AGE|INT \n",
      "        5|HT|TEXT \n",
      "        6|WT|TEXT \n",
      "        7|COLLEGE|TEXT \n",
      "        8|SALARY|TEXT\n",
      "        \n"
     ]
    }
   ],
   "source": [
    "variables = {\n",
    "    \"question\": question,\n",
    "    \"schema\": SchemaProvider.get_nba_schema_1(),\n",
    "}\n",
    "print(SchemaProvider.get_nba_schema_1()) # Let's load the database schema. "
   ]
  },
  {
   "cell_type": "code",
   "execution_count": 7,
   "id": "54d27582-4323-4a7b-91d4-912a5b6a0b79",
   "metadata": {},
   "outputs": [
    {
     "name": "stdout",
     "output_type": "stream",
     "text": [
      "<|begin_of_text|><|start_header_id|>system<|end_header_id|>\n",
      "You are an NBA analyst with 15 years of experience writing complex SQL queries. Consider the nba_roster table with the following schema:\n",
      "        0|Team|TEXT \n",
      "        1|NAME|TEXT  \n",
      "        2|Jersey|TEXT \n",
      "        3|POS|TEXT\n",
      "        4|AGE|INT \n",
      "        5|HT|TEXT \n",
      "        6|WT|TEXT \n",
      "        7|COLLEGE|TEXT \n",
      "        8|SALARY|TEXT\n",
      "        \n",
      "\n",
      "Write a SQL query to answer the following question. Follow instructions exactly.<|eot_id|>\n",
      "<|start_header_id|>user<|end_header_id|>\n",
      "Who is the highest paid NBA player?<|eot_id|>\n",
      "<|start_header_id|>assistant<|end_header_id|>\n",
      "\n"
     ]
    }
   ],
   "source": [
    "prompt_builder = PromptBuilder(\n",
    "    system_instructions=system_instructions,\n",
    "    prompt=prompt\n",
    ")\n",
    "\n",
    "# Generate final prompt\n",
    "prompt_builder.add_variables(variables)\n",
    "formatted_prompt = prompt_builder.build_prompt()\n",
    "print(formatted_prompt)"
   ]
  },
  {
   "cell_type": "code",
   "execution_count": 8,
   "id": "f2d7c1e4-cbd2-4f36-9e2c-e06f9fe8b470",
   "metadata": {},
   "outputs": [
    {
     "name": "stderr",
     "output_type": "stream",
     "text": [
      "Setting `pad_token_id` to `eos_token_id`:128009 for open-end generation.\n"
     ]
    },
    {
     "name": "stdout",
     "output_type": "stream",
     "text": [
      "To answer this question, we can use the following SQL query:\n",
      "\n",
      "```sql\n",
      "SELECT NAME, SALARY\n",
      "FROM nba_roster\n",
      "ORDER BY SALARY DESC\n",
      "LIMIT 1;\n",
      "```\n",
      "\n",
      "This query will return the name and salary of the highest paid NBA player. The `ORDER BY SALARY DESC` clause sorts the players by their salary in descending order (highest to lowest), and the `LIMIT 1` clause limits the result to the top 1 row, which is the highest paid player.\n"
     ]
    }
   ],
   "source": [
    "response = llm.generate_response(formatted_prompt)\n",
    "print(response) # finally, we get the answer from the model. "
   ]
  },
  {
   "cell_type": "markdown",
   "id": "7d7090bc-cb8d-412a-83fa-ca003d5f3861",
   "metadata": {},
   "source": [
    "Before moving forward, there are two important concepts to note here:\n",
    "\n",
    "- When prompting a model, it is essential to consider its specifications to ensure optimal performance. Some models require special tokens (e.g., \\<system>, \\<user>, \\<assistant>) to structure the prompt correctly. Before crafting a prompt, review the model’s documentation to determine whether such tokens are necessary.\n",
    "\n",
    "    For instance, LLaMA 3 uses special tokens to indicate different sections of the prompt. The system instructions are marked with: <|begin_of_text|><|start_header_id|>system<|end_header_id|>. User input follows the same format: <|begin_of_text|><|start_header_id|>user<|end_header_id|>. Finally, the end of the prompt, where the model is expected to respond, should be explicitly marked as: <|begin_of_text|><|start_header_id|>assistant<|end_header_id|>.\n",
    "\n",
    "- The model's output consists of both the generated SQL query and a natural language explanation, rather than structured JSON data. This behavior has important implications for app development:  \n",
    "  - Generating more output tokens increases costs, latency, and can reduce app performance.  \n",
    "  - A method is needed to convert natural language into a structured format.\n",
    "\n",
    "\n",
    "Let's refine the prompt so that it outputs only the SQL query. "
   ]
  },
  {
   "cell_type": "code",
   "execution_count": 9,
   "id": "484919ff-3baa-4e9b-9529-7b6b41de4a1b",
   "metadata": {},
   "outputs": [
    {
     "name": "stdout",
     "output_type": "stream",
     "text": [
      "<|begin_of_text|><|start_header_id|>system<|end_header_id|>\n",
      "You are an experienced NBA analyst with 15 years of expertise in writing complex SQL queries. \n",
      "Consider the `nba_roster` table with the following schema:         0|Team|TEXT \n",
      "        1|NAME|TEXT  \n",
      "        2|Jersey|TEXT \n",
      "        3|POS|TEXT\n",
      "        4|AGE|INT \n",
      "        5|HT|TEXT \n",
      "        6|WT|TEXT \n",
      "        7|COLLEGE|TEXT \n",
      "        8|SALARY|TEXT\n",
      "        \n",
      "\n",
      "Write a **SQL query** to answer the question below.\n",
      "\n",
      "**Output only the SQL query**—do not include any explanations or additional text. Follow the instructions exactly.<|eot_id|>\n",
      "<|start_header_id|>user<|end_header_id|>\n",
      "Who is the highest paid NBA player?<|eot_id|>\n",
      "<|start_header_id|>assistant<|end_header_id|>\n",
      "\n"
     ]
    }
   ],
   "source": [
    "system_instructions_2 = \"\"\"You are an experienced NBA analyst with 15 years of expertise in writing complex SQL queries. \n",
    "Consider the `nba_roster` table with the following schema: {schema}\\n\\nWrite a **SQL query** to answer the question below.\n",
    "\n",
    "**Output only the SQL query**—do not include any explanations or additional text. Follow the instructions exactly.\"\"\"\n",
    "\n",
    "prompt_builder = PromptBuilder(\n",
    "    system_instructions=system_instructions_2, # Let's change the system instructions, and check the output of the model.\n",
    "    prompt=prompt\n",
    ")\n",
    "\n",
    "# Generate final prompt\n",
    "prompt_builder.add_variables(variables)\n",
    "formatted_prompt = prompt_builder.build_prompt()\n",
    "print(formatted_prompt)"
   ]
  },
  {
   "cell_type": "code",
   "execution_count": 10,
   "id": "20663013-df1a-4462-983a-b89c441cdd32",
   "metadata": {},
   "outputs": [
    {
     "name": "stderr",
     "output_type": "stream",
     "text": [
      "Setting `pad_token_id` to `eos_token_id`:128009 for open-end generation.\n"
     ]
    },
    {
     "name": "stdout",
     "output_type": "stream",
     "text": [
      "SELECT * FROM nba_roster WHERE SALARY = (SELECT MAX(SALARY) FROM nba_roster);\n"
     ]
    }
   ],
   "source": [
    "response = llm.generate_response(formatted_prompt)\n",
    "print(response) # Output the generated response"
   ]
  },
  {
   "cell_type": "markdown",
   "id": "bb23b288-f13e-4e04-94d2-24f7e698982d",
   "metadata": {},
   "source": [
    "In our next iterative process, we will improve the schema for our database, including examples of the types of data it contains."
   ]
  },
  {
   "cell_type": "code",
   "execution_count": 11,
   "id": "f256bc06-620f-4b68-ba47-90b0cba03288",
   "metadata": {},
   "outputs": [
    {
     "name": "stdout",
     "output_type": "stream",
     "text": [
      "\n",
      "        0|Team|TEXT eg. \"Toronto Raptors\"\n",
      "        1|NAME|TEXT eg. \"Otto Porter Jr.\"\n",
      "        2|Jersey|TEXT eg. \"0\" and when null has a value \"NA\"\n",
      "        3|POS|TEXT eg. \"PF\"\n",
      "        4|AGE|INT eg. \"22\" in years\n",
      "        5|HT|TEXT eg. `6' 7\"` or `6' 10\"`\n",
      "        6|WT|TEXT eg. \"232 lbs\"\n",
      "        7|COLLEGE|TEXT eg. \"Michigan\" and when null has a value \"--\"\n",
      "        8|SALARY|TEXT eg. \"$9,945,830\" and when null has a value \"--\"\n",
      "        \n"
     ]
    }
   ],
   "source": [
    "variables = {\n",
    "    \"question\": question,\n",
    "    \"schema\": SchemaProvider.get_nba_schema_2(),\n",
    "}\n",
    "print(SchemaProvider.get_nba_schema_2())"
   ]
  },
  {
   "cell_type": "code",
   "execution_count": 12,
   "id": "6d257e7d-8dab-41c4-93e4-1bf4edf3ebc4",
   "metadata": {},
   "outputs": [
    {
     "name": "stdout",
     "output_type": "stream",
     "text": [
      "<|begin_of_text|><|start_header_id|>system<|end_header_id|>\n",
      "You are an experienced NBA analyst with 15 years of expertise in writing complex SQL queries. \n",
      "Consider the `nba_roster` table with the following schema: \n",
      "        0|Team|TEXT eg. \"Toronto Raptors\"\n",
      "        1|NAME|TEXT eg. \"Otto Porter Jr.\"\n",
      "        2|Jersey|TEXT eg. \"0\" and when null has a value \"NA\"\n",
      "        3|POS|TEXT eg. \"PF\"\n",
      "        4|AGE|INT eg. \"22\" in years\n",
      "        5|HT|TEXT eg. `6' 7\"` or `6' 10\"`\n",
      "        6|WT|TEXT eg. \"232 lbs\"\n",
      "        7|COLLEGE|TEXT eg. \"Michigan\" and when null has a value \"--\"\n",
      "        8|SALARY|TEXT eg. \"$9,945,830\" and when null has a value \"--\"\n",
      "        \n",
      "\n",
      "Write a **SQL query** to answer the question below.\n",
      "\n",
      "**Output only the SQL query**—do not include any explanations or additional text. Follow the instructions exactly.<|eot_id|>\n",
      "<|start_header_id|>user<|end_header_id|>\n",
      "Who is the highest paid NBA player?<|eot_id|>\n",
      "<|start_header_id|>assistant<|end_header_id|>\n",
      "\n"
     ]
    }
   ],
   "source": [
    "prompt_builder = PromptBuilder(\n",
    "    system_instructions=system_instructions_2, # Let's change the system instructions, and check the output of the model.\n",
    "    prompt=prompt\n",
    ")\n",
    "\n",
    "# Generate final prompt\n",
    "prompt_builder.add_variables(variables)\n",
    "formatted_prompt = prompt_builder.build_prompt()\n",
    "print(formatted_prompt)"
   ]
  },
  {
   "cell_type": "code",
   "execution_count": 13,
   "id": "4f5837e5-89a1-4052-b119-bc7e2142faea",
   "metadata": {},
   "outputs": [
    {
     "name": "stderr",
     "output_type": "stream",
     "text": [
      "Setting `pad_token_id` to `eos_token_id`:128009 for open-end generation.\n"
     ]
    },
    {
     "name": "stdout",
     "output_type": "stream",
     "text": [
      "SELECT NAME, SALARY\n",
      "FROM nba_roster\n",
      "WHERE SALARY!= '--'\n",
      "ORDER BY CAST(SALARY AS INTEGER) DESC\n",
      "LIMIT 1;\n"
     ]
    }
   ],
   "source": [
    "response = llm.generate_response(formatted_prompt)\n",
    "print(response) # Output the generated response"
   ]
  },
  {
   "cell_type": "markdown",
   "id": "b2e316d0-601d-43e0-9ce9-f495e819a6c8",
   "metadata": {},
   "source": [
    "## How to return structured data from a model"
   ]
  },
  {
   "cell_type": "code",
   "execution_count": 15,
   "id": "4448ce49-2141-44f5-aa8a-edd517878872",
   "metadata": {},
   "outputs": [
    {
     "name": "stdout",
     "output_type": "stream",
     "text": [
      "<class 'str'>\n"
     ]
    }
   ],
   "source": [
    "print(type(response)) # Let's go back to this concept. LLMs output text. So how can we get an structured output? "
   ]
  },
  {
   "cell_type": "markdown",
   "id": "efaf1f71-3459-4627-9462-826bd28da54e",
   "metadata": {},
   "source": [
    "Structured outputs from LLMs are essential for applications requiring data in specific formats, such as JSON or XML. Structuring the output of the model enhances accuracy and consistency in production pipelines, making the data more reliable for downstreams processes. Some common techniques for generating structured outputs from LLMs: \n",
    "\n",
    "- **Prompt engineering:** Instruct the model to produce outputs in a desire structure.\n",
    "- **Output parsing:** Parsing the natural language response into structured formats using tools like regular expressions or specialized parsers.\n",
    "- **Schema-guided Generation:** Defining a schema that the LLM adheres to during output generation, ensuring the responses conform to a predefined structure.\n",
    "\n",
    "For our agent, I will implement a combination of prompting techniques and parsing methods. I will enforce the SQL query output using Pydantic. Using a Pydantic model ensures a valid SQL query is returned.\n",
    "\n",
    "Next steps: \n",
    "- Define a Pydantic schema (SQLQuery) to enforce structure.\n",
    "- Initialize the LLM.\n",
    "- Use PydanticOutputParser to ensure our model follows the schema.\n",
    "- Included the output format instructions in the prompt.\n",
    "- Retrieve the response from the model.\n",
    "- Parse the response into a SQLQuery object. If the response is malformed (e.g., missing a field), Pydantic will raise an error.\n"
   ]
  },
  {
   "cell_type": "code",
   "execution_count": 24,
   "id": "f435a3a4-dc17-40cc-aad0-d7fd673e19ef",
   "metadata": {},
   "outputs": [
    {
     "name": "stdout",
     "output_type": "stream",
     "text": [
      "<|begin_of_text|><|start_header_id|>system<|end_header_id|>\n",
      "You are an experienced NBAparser = PydanticOutputParser(pydantic_object=SQLQuery)\n",
      " analyst with 15 years of expertise in writing complex SQL queries. \n",
      "Consider the `nba_roster` table with the following schema: \n",
      "        0|Team|TEXT eg. \"Toronto Raptors\"\n",
      "        1|NAME|TEXT eg. \"Otto Porter Jr.\"\n",
      "        2|Jersey|TEXT eg. \"0\" and when null has a value \"NA\"\n",
      "        3|POS|TEXT eg. \"PF\"\n",
      "        4|AGE|INT eg. \"22\" in years\n",
      "        5|HT|TEXT eg. `6' 7\"` or `6' 10\"`\n",
      "        6|WT|TEXT eg. \"232 lbs\"\n",
      "        7|COLLEGE|TEXT eg. \"Michigan\" and when null has a value \"--\"\n",
      "        8|SALARY|TEXT eg. \"$9,945,830\" and when null has a value \"--\"\n",
      "        \n",
      "\n",
      "Write a **SQL query** to answer the question below.\n",
      "\n",
      "**Output only the SQL query**—do not include any explanations or additional text. Follow the instructions exactly. The output should be formatted as a JSON instance that conforms to the JSON schema below.\n",
      "\n",
      "As an example, for the schema {\"properties\": {\"foo\": {\"title\": \"Foo\", \"description\": \"a list of strings\", \"type\": \"array\", \"items\": {\"type\": \"string\"}}}, \"required\": [\"foo\"]}\n",
      "the object {\"foo\": [\"bar\", \"baz\"]} is a well-formatted instance of the schema. The object {\"properties\": {\"foo\": [\"bar\", \"baz\"]}} is not well-formatted.\n",
      "\n",
      "Here is the output schema:\n",
      "```\n",
      "{\"properties\": {\"query\": {\"description\": \"The SQL query string\", \"title\": \"Query\", \"type\": \"string\"}}, \"required\": [\"query\"]}\n",
      "```<|eot_id|>\n",
      "<|start_header_id|>user<|end_header_id|>\n",
      "Who is the highest paid NBA player?<|eot_id|>\n",
      "<|start_header_id|>assistant<|end_header_id|>\n",
      "\n"
     ]
    }
   ],
   "source": [
    "from pydantic import BaseModel, Field\n",
    "from langchain.output_parsers import PydanticOutputParser\n",
    "\n",
    "# Define Pydantic model.\n",
    "class SQLQuery(BaseModel): \n",
    "    query: str = Field(..., description=\"The SQL query string\")\n",
    "\n",
    "# We modify the prompt such as we include the format instructions. \n",
    "system_instructions = \"\"\"You are an experienced NBAparser = PydanticOutputParser(pydantic_object=SQLQuery)\n",
    " analyst with 15 years of expertise in writing complex SQL queries. \n",
    "Consider the `nba_roster` table with the following schema: {schema}\\n\\nWrite a **SQL query** to answer the question below.\n",
    "\n",
    "**Output only the SQL query**—do not include any explanations or additional text. Follow the instructions exactly. {format_instructions}\"\"\"\n",
    "\n",
    "prompt_builder = PromptBuilder(\n",
    "    system_instructions=system_instructions, # Let's change the system instructions with the output format instructions included.\n",
    "    prompt=prompt\n",
    ")\n",
    "\n",
    "parser = PydanticOutputParser(pydantic_object=SQLQuery)\n",
    "\n",
    "# Update variables to included format instructions: \n",
    "variables = {\n",
    "    \"question\": question,\n",
    "    \"schema\": SchemaProvider.get_nba_schema_2(),\n",
    "    \"format_instructions\": parser.get_format_instructions()\n",
    "}\n",
    "\n",
    "prompt_builder.add_variables(variables)\n",
    "formatted_prompt = prompt_builder.build_prompt()\n",
    "print(formatted_prompt)\n"
   ]
  },
  {
   "cell_type": "code",
   "execution_count": 26,
   "id": "1cc41e6e-c61d-44f7-846e-f44f4a4f43dd",
   "metadata": {},
   "outputs": [
    {
     "name": "stderr",
     "output_type": "stream",
     "text": [
      "Setting `pad_token_id` to `eos_token_id`:128009 for open-end generation.\n"
     ]
    },
    {
     "name": "stdout",
     "output_type": "stream",
     "text": [
      "query=\"SELECT * FROM nba_roster WHERE SALARY!= '--' ORDER BY CAST(SUBSTRING(SALARY, 2) AS INTEGER) DESC LIMIT 1\"\n",
      "<class '__main__.SQLQuery'>\n",
      "SELECT * FROM nba_roster WHERE SALARY!= '--' ORDER BY CAST(SUBSTRING(SALARY, 2) AS INTEGER) DESC LIMIT 1\n"
     ]
    }
   ],
   "source": [
    "response = llm.generate_response(formatted_prompt)\n",
    "parsed_response = parser.parse(response) # Converts the raw LLM output into a validated SQLQuery object."
   ]
  },
  {
   "cell_type": "code",
   "execution_count": 27,
   "id": "9fe37acd-00a9-4348-97ca-0d5086c01280",
   "metadata": {},
   "outputs": [
    {
     "name": "stdout",
     "output_type": "stream",
     "text": [
      "query=\"SELECT * FROM nba_roster WHERE SALARY!= '--' ORDER BY CAST(SUBSTRING(SALARY, 2) AS INTEGER) DESC LIMIT 1\"\n",
      "<class '__main__.SQLQuery'>\n",
      "SELECT * FROM nba_roster WHERE SALARY!= '--' ORDER BY CAST(SUBSTRING(SALARY, 2) AS INTEGER) DESC LIMIT 1\n"
     ]
    }
   ],
   "source": [
    "print(parsed_response) \n",
    "print(type(parsed_response))\n",
    "print(parsed_response.query)"
   ]
  }
 ],
 "metadata": {
  "kernelspec": {
   "display_name": "Python 3 (ipykernel)",
   "language": "python",
   "name": "python3"
  },
  "language_info": {
   "codemirror_mode": {
    "name": "ipython",
    "version": 3
   },
   "file_extension": ".py",
   "mimetype": "text/x-python",
   "name": "python",
   "nbconvert_exporter": "python",
   "pygments_lexer": "ipython3",
   "version": "3.11.3"
  }
 },
 "nbformat": 4,
 "nbformat_minor": 5
}
