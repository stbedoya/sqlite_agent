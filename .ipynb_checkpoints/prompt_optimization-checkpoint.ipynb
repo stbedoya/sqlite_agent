{
 "cells": [
  {
   "cell_type": "markdown",
   "id": "2f583503-4649-4208-b859-14c22f9ec108",
   "metadata": {},
   "source": [
    "- We have a gold-standard test set designed to evaluate and understand our model's current performance and behavior. This dataset consists of a collection of questions targeting specific information retrieval from the SQL database. Each question is paired with the correct expected answer and the corresponding SQL query needed to extract the relevant data accurately.\n"
   ]
  },
  {
   "cell_type": "code",
   "execution_count": null,
   "id": "713a0b41-b838-4929-928c-f8c5fb5e4533",
   "metadata": {},
   "outputs": [],
   "source": []
  }
 ],
 "metadata": {
  "kernelspec": {
   "display_name": "Python 3 (ipykernel)",
   "language": "python",
   "name": "python3"
  },
  "language_info": {
   "codemirror_mode": {
    "name": "ipython",
    "version": 3
   },
   "file_extension": ".py",
   "mimetype": "text/x-python",
   "name": "python",
   "nbconvert_exporter": "python",
   "pygments_lexer": "ipython3",
   "version": "3.11.3"
  }
 },
 "nbformat": 4,
 "nbformat_minor": 5
}
